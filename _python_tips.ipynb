{
  "nbformat": 4,
  "nbformat_minor": 0,
  "metadata": {
    "colab": {
      "provenance": [],
      "collapsed_sections": [
        "uC6-sB260-uj",
        "9yWtd40ZGqgC",
        "XAhnLbgRKKv8"
      ],
      "authorship_tag": "ABX9TyN32l4o6SSGdheA9p3UEieJ",
      "include_colab_link": true
    },
    "kernelspec": {
      "name": "python3",
      "display_name": "Python 3"
    },
    "language_info": {
      "name": "python"
    }
  },
  "cells": [
    {
      "cell_type": "markdown",
      "metadata": {
        "id": "view-in-github",
        "colab_type": "text"
      },
      "source": [
        "<a href=\"https://colab.research.google.com/github/falken20/_colab_projects/blob/master/_python_tips.ipynb\" target=\"_parent\"><img src=\"https://colab.research.google.com/assets/colab-badge.svg\" alt=\"Open In Colab\"/></a>"
      ]
    },
    {
      "cell_type": "markdown",
      "source": [
        "# **Python Examples**\n",
        "\n",
        "* Remove image background: ```rembg, onnxruntime, PIL```\n",
        "* Encryption at Rest with SQLAlchemy: ```cryptography```\n",
        "* Create audio book: ```gTTS```\n",
        "* Python colored output: ```colorama```\n",
        "* Big terminal message: ```termcolor, pyfiglet```\n",
        "* Convert video files to gift: ```moviepy```"
      ],
      "metadata": {
        "id": "tQtXsT881o1E"
      }
    },
    {
      "cell_type": "markdown",
      "source": [
        "# Remove image background"
      ],
      "metadata": {
        "id": "uC6-sB260-uj"
      }
    },
    {
      "cell_type": "code",
      "source": [
        "!pip install rembg\n",
        "!pip install onnxruntime"
      ],
      "metadata": {
        "id": "r9Jh6CLx1Bz1"
      },
      "execution_count": null,
      "outputs": []
    },
    {
      "cell_type": "code",
      "source": [
        "from rembg import remove\n",
        "from PIL import Image\n",
        "\n",
        "input_path = 'image.jpeg'\n",
        "output_path = 'image.png'\n",
        "\n",
        "image = Image.open(input_path)\n",
        "image\n",
        "\n",
        "image_output = remove(image)\n",
        "image_output.save(output_path)\n",
        "\n",
        "Image.open('image.png')"
      ],
      "metadata": {
        "id": "3xjj01h21GFI"
      },
      "execution_count": null,
      "outputs": []
    },
    {
      "cell_type": "markdown",
      "source": [
        "# Encryption at Rest with SQLAlchemy"
      ],
      "metadata": {
        "id": "Yr68csHGDdFf"
      }
    },
    {
      "cell_type": "code",
      "source": [
        "!pip install cryptography\n",
        "!pip install dotenv"
      ],
      "metadata": {
        "id": "_FdRzKkKEaAf"
      },
      "execution_count": null,
      "outputs": []
    },
    {
      "cell_type": "code",
      "source": [
        "import os\n",
        "import sys\n",
        "from cryptography.fernet import Fernet\n",
        "# from dotenv import load_dotenv\n",
        "\n",
        "# load_dotenv()\n",
        "\n",
        "# Generate an encryption key\n",
        "encryption_key = Fernet.generate_key().decode()\n",
        "print(f\"ENCRYPTION_KEY={encryption_key}\")\n",
        "\n",
        "# encryption_key = os.environ['ENCRYPTION_KEY']\n",
        "# text_to_encrypt = sys.argv[1]\n",
        "text_to_encrypt = \"example_text_to_encrypt\"\n",
        "print(f\"Text to encrypt: {text_to_encrypt}\")\n",
        "\n",
        "# Create instance with encryption key\n",
        "fernet = Fernet(encryption_key.encode())\n",
        "\n",
        "# Encrypt a text\n",
        "# Encrypt method needs the data in bytes (encode())\n",
        "encrypted = fernet.encrypt(text_to_encrypt.encode())\n",
        "print(f\"Encrypted code: {encrypted.decode()}\")\n",
        "\n",
        "# Decrypt text\n",
        "decrypted = fernet.decrypt(encrypted)\n",
        "print(f\"Decrypt code: {decrypted.decode()}\")"
      ],
      "metadata": {
        "colab": {
          "base_uri": "https://localhost:8080/"
        },
        "id": "56oj7cZPM8wp",
        "outputId": "aab0fdce-613f-460b-f1b3-a7eed09c09e6"
      },
      "execution_count": null,
      "outputs": [
        {
          "output_type": "stream",
          "name": "stdout",
          "text": [
            "ENCRYPTION_KEY=xihvcVmbdMmWRHEPSVdF5Xlwc17Oa742URvJitby3ks=\n",
            "Text to encrypt: example_text_to_encrypt\n",
            "Encrypted code: gAAAAABnnI-RDVXkeofPsKxaRAMw6Bd3zUbHu7WmTu1YfAOdg3OsQ5warUv4M-uaTVXuYzN1lgqtemLHN_iuHJHWADzflA_heyjmg0E214QhQJlpSkb_j70=\n",
            "Decrypt code: example_text_to_encrypt\n"
          ]
        }
      ]
    },
    {
      "cell_type": "markdown",
      "source": [
        "# Create audio book"
      ],
      "metadata": {
        "id": "9yWtd40ZGqgC"
      }
    },
    {
      "cell_type": "code",
      "source": [
        "!pip install gTTS"
      ],
      "metadata": {
        "colab": {
          "base_uri": "https://localhost:8080/"
        },
        "collapsed": true,
        "id": "ixhyW5hhG7jy",
        "outputId": "f738ab65-d96b-4013-89a2-dd139eec7d80"
      },
      "execution_count": null,
      "outputs": [
        {
          "output_type": "stream",
          "name": "stdout",
          "text": [
            "Collecting gTTS\n",
            "  Downloading gTTS-2.5.4-py3-none-any.whl.metadata (4.1 kB)\n",
            "Requirement already satisfied: requests<3,>=2.27 in /usr/local/lib/python3.11/dist-packages (from gTTS) (2.32.3)\n",
            "Requirement already satisfied: click<8.2,>=7.1 in /usr/local/lib/python3.11/dist-packages (from gTTS) (8.1.8)\n",
            "Requirement already satisfied: charset-normalizer<4,>=2 in /usr/local/lib/python3.11/dist-packages (from requests<3,>=2.27->gTTS) (3.4.1)\n",
            "Requirement already satisfied: idna<4,>=2.5 in /usr/local/lib/python3.11/dist-packages (from requests<3,>=2.27->gTTS) (3.10)\n",
            "Requirement already satisfied: urllib3<3,>=1.21.1 in /usr/local/lib/python3.11/dist-packages (from requests<3,>=2.27->gTTS) (2.3.0)\n",
            "Requirement already satisfied: certifi>=2017.4.17 in /usr/local/lib/python3.11/dist-packages (from requests<3,>=2.27->gTTS) (2024.12.14)\n",
            "Downloading gTTS-2.5.4-py3-none-any.whl (29 kB)\n",
            "Installing collected packages: gTTS\n",
            "Successfully installed gTTS-2.5.4\n"
          ]
        }
      ]
    },
    {
      "cell_type": "code",
      "source": [
        "from gtts import gTTS\n",
        "import os\n",
        "\n",
        "def create_audiobook(text_file, audio_file):\n",
        "  with open(text_file, 'r', encoding='utf-8') as file:\n",
        "    text = file.read()\n",
        "  print(f\"Creating audio from {text_file} with {len(text)} characters\")\n",
        "\n",
        "  tts = gTTS(text=text, lang='en')\n",
        "  tts.save(audio_file)\n",
        "\n",
        "  print(f\"Audiobook saved as {audio_file}\")\n",
        "\n",
        "\n",
        "# Example\n",
        "text_file = \"book.txt\"\n",
        "audio_file = \"audiobook.mp3\"\n",
        "\n",
        "create_audiobook(text_file=text_file, audio_file=audio_file)\n",
        "# Play the audio\n",
        "print(f\"Playing the audio {audio_file} with OS default program\")\n",
        "os.system(f\"start {audio_file}\")\n",
        "\n"
      ],
      "metadata": {
        "colab": {
          "base_uri": "https://localhost:8080/"
        },
        "id": "-wdNaoEsHPUt",
        "outputId": "35b24f8e-a536-459e-b408-55f148373e70"
      },
      "execution_count": null,
      "outputs": [
        {
          "output_type": "stream",
          "name": "stdout",
          "text": [
            "Creating audio from book.txt with 22 characters\n",
            "Audiobook saved as audiobook.mp3\n",
            "Playing the audio audiobook.mp3 with os default program\n"
          ]
        },
        {
          "output_type": "execute_result",
          "data": {
            "text/plain": [
              "32512"
            ]
          },
          "metadata": {},
          "execution_count": 6
        }
      ]
    },
    {
      "cell_type": "markdown",
      "source": [
        "# Python colored output"
      ],
      "metadata": {
        "id": "XAhnLbgRKKv8"
      }
    },
    {
      "cell_type": "code",
      "source": [
        "!pip install colorama"
      ],
      "metadata": {
        "collapsed": true,
        "colab": {
          "base_uri": "https://localhost:8080/"
        },
        "id": "JUrCDExIKcqS",
        "outputId": "33c6bf7a-ae84-4e99-e713-67ffce981f89"
      },
      "execution_count": null,
      "outputs": [
        {
          "output_type": "stream",
          "name": "stdout",
          "text": [
            "Collecting colorama\n",
            "  Downloading colorama-0.4.6-py2.py3-none-any.whl.metadata (17 kB)\n",
            "Downloading colorama-0.4.6-py2.py3-none-any.whl (25 kB)\n",
            "Installing collected packages: colorama\n",
            "Successfully installed colorama-0.4.6\n"
          ]
        }
      ]
    },
    {
      "cell_type": "code",
      "source": [
        "from re import S\n",
        "from colorama import Fore, Style, Back\n",
        "\n",
        "print(Back.BLUE + Fore.BLACK + Style.BRIGHT)\n",
        "print(\"Some text with style\")\n",
        "print(Style.RESET_ALL + \"Some text without style\")\n",
        "print(Back.GREEN + Fore.WHITE + Style.BRIGHT + \"Text in blue background\")\n",
        "print(Style.RESET_ALL)\n",
        "print('back to normal now')"
      ],
      "metadata": {
        "colab": {
          "base_uri": "https://localhost:8080/"
        },
        "collapsed": true,
        "id": "PUc3kJ9WKRoC",
        "outputId": "1a3a6e62-9bd5-437b-dffe-f48dd8e0a112"
      },
      "execution_count": null,
      "outputs": [
        {
          "output_type": "stream",
          "name": "stdout",
          "text": [
            "\u001b[44m\u001b[30m\u001b[1m\n",
            "Some text with style\n",
            "\u001b[0mSome text without style\n",
            "\u001b[42m\u001b[37m\u001b[1mText in blue background\n",
            "\u001b[0m\n",
            "back to normal now\n"
          ]
        }
      ]
    },
    {
      "cell_type": "markdown",
      "source": [
        "# Big terminal message"
      ],
      "metadata": {
        "id": "TH5LZhvhzde_"
      }
    },
    {
      "cell_type": "code",
      "source": [
        "!pip install termcolor\n",
        "!pip install pyfiglet"
      ],
      "metadata": {
        "colab": {
          "base_uri": "https://localhost:8080/"
        },
        "id": "e5o_ppoEzkz-",
        "outputId": "3b6829a2-ba63-4af9-ede9-68b4cb648cf1"
      },
      "execution_count": null,
      "outputs": [
        {
          "output_type": "stream",
          "name": "stdout",
          "text": [
            "Requirement already satisfied: termcolor in /usr/local/lib/python3.11/dist-packages (2.5.0)\n",
            "Collecting pyfiglet\n",
            "  Downloading pyfiglet-1.0.2-py3-none-any.whl.metadata (7.1 kB)\n",
            "Downloading pyfiglet-1.0.2-py3-none-any.whl (1.1 MB)\n",
            "\u001b[2K   \u001b[90m━━━━━━━━━━━━━━━━━━━━━━━━━━━━━━━━━━━━━━━━\u001b[0m \u001b[32m1.1/1.1 MB\u001b[0m \u001b[31m11.9 MB/s\u001b[0m eta \u001b[36m0:00:00\u001b[0m\n",
            "\u001b[?25hInstalling collected packages: pyfiglet\n",
            "Successfully installed pyfiglet-1.0.2\n"
          ]
        }
      ]
    },
    {
      "cell_type": "code",
      "source": [
        "import pyfiglet\n",
        "from termcolor import colored\n",
        "\n",
        "def term_message(message: str = \"Happy Holi\", color: str = \"red\"):\n",
        "  message = pyfiglet.figlet_format(message)\n",
        "  colored_message = colored(message, color=\"red\")\n",
        "  print(colored_message)\n",
        "\n",
        "term_message(\"Happy Holi!!!!!\", \"blue\")"
      ],
      "metadata": {
        "colab": {
          "base_uri": "https://localhost:8080/"
        },
        "id": "iH7iit1xzrMZ",
        "outputId": "a78e1213-6be9-4d5f-e7b9-99a525cb4a36"
      },
      "execution_count": null,
      "outputs": [
        {
          "output_type": "stream",
          "name": "stdout",
          "text": [
            " _   _                           _   _       _ _ _ _ _ _ _ \n",
            "| | | | __ _ _ __  _ __  _   _  | | | | ___ | (_) | | | | |\n",
            "| |_| |/ _` | '_ \\| '_ \\| | | | | |_| |/ _ \\| | | | | | | |\n",
            "|  _  | (_| | |_) | |_) | |_| | |  _  | (_) | | |_|_|_|_|_|\n",
            "|_| |_|\\__,_| .__/| .__/ \\__, | |_| |_|\\___/|_|_(_|_|_|_|_)\n",
            "            |_|   |_|    |___/                             \n",
            "\n"
          ]
        }
      ]
    },
    {
      "cell_type": "markdown",
      "source": [
        "# Convert Video files to Gift"
      ],
      "metadata": {
        "id": "MY3QuN2AJTbs"
      }
    },
    {
      "cell_type": "code",
      "source": [
        "!pip install moviepy"
      ],
      "metadata": {
        "id": "-vtezjWiJcny"
      },
      "execution_count": null,
      "outputs": []
    },
    {
      "cell_type": "code",
      "source": [
        "from moviepy.editor import VideoFileClip\n",
        "\n",
        "videoClip = vieopt VideoFileClip\n",
        "videoClip.write_gif(\"p1.gif\")"
      ],
      "metadata": {
        "id": "Y82Bxt8mJlmb"
      },
      "execution_count": null,
      "outputs": []
    }
  ]
}